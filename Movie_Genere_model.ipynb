{
 "cells": [
  {
   "cell_type": "code",
   "execution_count": 1,
   "id": "63a29233",
   "metadata": {},
   "outputs": [],
   "source": [
    "import pandas as pd\n",
    "import numpy as np\n",
    "import seaborn as sns\n",
    "import matplotlib.pyplot as plt\n",
    "from sklearn.model_selection import train_test_split, GridSearchCV\n",
    "from sklearn.preprocessing import StandardScaler\n",
    "from sklearn.linear_model import LogisticRegression\n",
    "from sklearn.metrics import accuracy_score, precision_score, recall_score, f1_score, roc_auc_score\n",
    "from sklearn.svm import SVC\n",
    "from keras.preprocessing.text import Tokenizer\n",
    "from keras.preprocessing.sequence import pad_sequences\n",
    "from sklearn.naive_bayes import MultinomialNB\n",
    "from sklearn.feature_extraction.text import TfidfVectorizer"
   ]
  },
  {
   "cell_type": "code",
   "execution_count": 2,
   "id": "b2fb2711",
   "metadata": {},
   "outputs": [],
   "source": [
    "import warnings\n",
    "warnings.filterwarnings('ignore')"
   ]
  },
  {
   "cell_type": "code",
   "execution_count": 3,
   "id": "15675029",
   "metadata": {},
   "outputs": [],
   "source": [
    "import csv\n",
    "encoding = 'utf-8'\n",
    "with open('train_data.txt', 'r', encoding=encoding) as file:\n",
    "    lines = file.readlines()\n",
    "data = [line.strip().split(':::') for line in lines]\n",
    "with open('train_data.csv', 'w', newline='', encoding='utf-8') as csvfile:\n",
    "    writer = csv.writer(csvfile)\n",
    "    writer.writerows(data)"
   ]
  },
  {
   "cell_type": "code",
   "execution_count": 4,
   "id": "6aff30ef",
   "metadata": {},
   "outputs": [],
   "source": [
    "column_name=['ID','TITLE_YEAR','GENRE','DESCRIPTION']"
   ]
  },
  {
   "cell_type": "code",
   "execution_count": 5,
   "id": "17e702fd",
   "metadata": {},
   "outputs": [],
   "source": [
    "train_data=pd.read_csv('train_data.csv',header=None,names=column_name)"
   ]
  },
  {
   "cell_type": "code",
   "execution_count": 6,
   "id": "3fd66963",
   "metadata": {},
   "outputs": [
    {
     "data": {
      "text/html": [
       "<div>\n",
       "<style scoped>\n",
       "    .dataframe tbody tr th:only-of-type {\n",
       "        vertical-align: middle;\n",
       "    }\n",
       "\n",
       "    .dataframe tbody tr th {\n",
       "        vertical-align: top;\n",
       "    }\n",
       "\n",
       "    .dataframe thead th {\n",
       "        text-align: right;\n",
       "    }\n",
       "</style>\n",
       "<table border=\"1\" class=\"dataframe\">\n",
       "  <thead>\n",
       "    <tr style=\"text-align: right;\">\n",
       "      <th></th>\n",
       "      <th>ID</th>\n",
       "      <th>TITLE_YEAR</th>\n",
       "      <th>GENRE</th>\n",
       "      <th>DESCRIPTION</th>\n",
       "    </tr>\n",
       "  </thead>\n",
       "  <tbody>\n",
       "    <tr>\n",
       "      <th>0</th>\n",
       "      <td>1</td>\n",
       "      <td>Oscar et la dame rose (2009)</td>\n",
       "      <td>drama</td>\n",
       "      <td>Listening in to a conversation between his do...</td>\n",
       "    </tr>\n",
       "    <tr>\n",
       "      <th>1</th>\n",
       "      <td>2</td>\n",
       "      <td>Cupid (1997)</td>\n",
       "      <td>thriller</td>\n",
       "      <td>A brother and sister with a past incestuous r...</td>\n",
       "    </tr>\n",
       "  </tbody>\n",
       "</table>\n",
       "</div>"
      ],
      "text/plain": [
       "   ID                      TITLE_YEAR       GENRE  \\\n",
       "0   1   Oscar et la dame rose (2009)       drama    \n",
       "1   2                   Cupid (1997)    thriller    \n",
       "\n",
       "                                         DESCRIPTION  \n",
       "0   Listening in to a conversation between his do...  \n",
       "1   A brother and sister with a past incestuous r...  "
      ]
     },
     "execution_count": 6,
     "metadata": {},
     "output_type": "execute_result"
    }
   ],
   "source": [
    "train_data.head(2)"
   ]
  },
  {
   "cell_type": "code",
   "execution_count": 7,
   "id": "bccda20f",
   "metadata": {},
   "outputs": [
    {
     "data": {
      "text/plain": [
       "(54214, 4)"
      ]
     },
     "execution_count": 7,
     "metadata": {},
     "output_type": "execute_result"
    }
   ],
   "source": [
    "train_data.shape"
   ]
  },
  {
   "cell_type": "code",
   "execution_count": 8,
   "id": "f78cda82",
   "metadata": {},
   "outputs": [
    {
     "name": "stdout",
     "output_type": "stream",
     "text": [
      "<class 'pandas.core.frame.DataFrame'>\n",
      "RangeIndex: 54214 entries, 0 to 54213\n",
      "Data columns (total 4 columns):\n",
      " #   Column       Non-Null Count  Dtype \n",
      "---  ------       --------------  ----- \n",
      " 0   ID           54214 non-null  int64 \n",
      " 1   TITLE_YEAR   54214 non-null  object\n",
      " 2   GENRE        54214 non-null  object\n",
      " 3   DESCRIPTION  54214 non-null  object\n",
      "dtypes: int64(1), object(3)\n",
      "memory usage: 1.7+ MB\n"
     ]
    }
   ],
   "source": [
    "train_data.info()"
   ]
  },
  {
   "cell_type": "code",
   "execution_count": 9,
   "id": "8d1d80b8",
   "metadata": {},
   "outputs": [],
   "source": [
    "train_data[['TITLE', 'YEAR']] = train_data['TITLE_YEAR'].str.extract(r'(.+)\\((\\d+)\\)')\n",
    "train_data.drop('TITLE_YEAR', axis=1, inplace=True)"
   ]
  },
  {
   "cell_type": "code",
   "execution_count": 10,
   "id": "e668acbb",
   "metadata": {},
   "outputs": [
    {
     "name": "stdout",
     "output_type": "stream",
     "text": [
      "ID                0\n",
      "GENRE             0\n",
      "DESCRIPTION       0\n",
      "TITLE          4347\n",
      "YEAR           4347\n",
      "dtype: int64\n"
     ]
    }
   ],
   "source": [
    "null_column=train_data.isnull().sum()\n",
    "print(null_column)"
   ]
  },
  {
   "cell_type": "code",
   "execution_count": 11,
   "id": "74bb33ac",
   "metadata": {},
   "outputs": [],
   "source": [
    "null_columns = train_data.columns[train_data.isnull().any()]"
   ]
  },
  {
   "cell_type": "code",
   "execution_count": 12,
   "id": "e1b37cc3",
   "metadata": {},
   "outputs": [],
   "source": [
    "null_rows_values = train_data.loc[train_data[null_columns].isnull().any(axis=1), null_columns]"
   ]
  },
  {
   "cell_type": "code",
   "execution_count": 13,
   "id": "60a48a33",
   "metadata": {},
   "outputs": [
    {
     "data": {
      "text/html": [
       "<div>\n",
       "<style scoped>\n",
       "    .dataframe tbody tr th:only-of-type {\n",
       "        vertical-align: middle;\n",
       "    }\n",
       "\n",
       "    .dataframe tbody tr th {\n",
       "        vertical-align: top;\n",
       "    }\n",
       "\n",
       "    .dataframe thead th {\n",
       "        text-align: right;\n",
       "    }\n",
       "</style>\n",
       "<table border=\"1\" class=\"dataframe\">\n",
       "  <thead>\n",
       "    <tr style=\"text-align: right;\">\n",
       "      <th></th>\n",
       "      <th>TITLE</th>\n",
       "      <th>YEAR</th>\n",
       "    </tr>\n",
       "  </thead>\n",
       "  <tbody>\n",
       "    <tr>\n",
       "      <th>9</th>\n",
       "      <td>NaN</td>\n",
       "      <td>NaN</td>\n",
       "    </tr>\n",
       "    <tr>\n",
       "      <th>25</th>\n",
       "      <td>NaN</td>\n",
       "      <td>NaN</td>\n",
       "    </tr>\n",
       "    <tr>\n",
       "      <th>36</th>\n",
       "      <td>NaN</td>\n",
       "      <td>NaN</td>\n",
       "    </tr>\n",
       "    <tr>\n",
       "      <th>38</th>\n",
       "      <td>NaN</td>\n",
       "      <td>NaN</td>\n",
       "    </tr>\n",
       "    <tr>\n",
       "      <th>44</th>\n",
       "      <td>NaN</td>\n",
       "      <td>NaN</td>\n",
       "    </tr>\n",
       "    <tr>\n",
       "      <th>...</th>\n",
       "      <td>...</td>\n",
       "      <td>...</td>\n",
       "    </tr>\n",
       "    <tr>\n",
       "      <th>54187</th>\n",
       "      <td>NaN</td>\n",
       "      <td>NaN</td>\n",
       "    </tr>\n",
       "    <tr>\n",
       "      <th>54196</th>\n",
       "      <td>NaN</td>\n",
       "      <td>NaN</td>\n",
       "    </tr>\n",
       "    <tr>\n",
       "      <th>54200</th>\n",
       "      <td>NaN</td>\n",
       "      <td>NaN</td>\n",
       "    </tr>\n",
       "    <tr>\n",
       "      <th>54203</th>\n",
       "      <td>NaN</td>\n",
       "      <td>NaN</td>\n",
       "    </tr>\n",
       "    <tr>\n",
       "      <th>54210</th>\n",
       "      <td>NaN</td>\n",
       "      <td>NaN</td>\n",
       "    </tr>\n",
       "  </tbody>\n",
       "</table>\n",
       "<p>4347 rows × 2 columns</p>\n",
       "</div>"
      ],
      "text/plain": [
       "      TITLE YEAR\n",
       "9       NaN  NaN\n",
       "25      NaN  NaN\n",
       "36      NaN  NaN\n",
       "38      NaN  NaN\n",
       "44      NaN  NaN\n",
       "...     ...  ...\n",
       "54187   NaN  NaN\n",
       "54196   NaN  NaN\n",
       "54200   NaN  NaN\n",
       "54203   NaN  NaN\n",
       "54210   NaN  NaN\n",
       "\n",
       "[4347 rows x 2 columns]"
      ]
     },
     "execution_count": 13,
     "metadata": {},
     "output_type": "execute_result"
    }
   ],
   "source": [
    "null_rows_values"
   ]
  },
  {
   "cell_type": "code",
   "execution_count": 14,
   "id": "21f86afb",
   "metadata": {},
   "outputs": [],
   "source": [
    "categorical_features_with_missing = ['TITLE']  \n",
    "imputation_value = 'Unknown'\n",
    "for feature in categorical_features_with_missing:\n",
    "    train_data[feature].fillna(imputation_value, inplace=True)"
   ]
  },
  {
   "cell_type": "code",
   "execution_count": 15,
   "id": "612fc8dc",
   "metadata": {},
   "outputs": [],
   "source": [
    "from sklearn.impute import SimpleImputer"
   ]
  },
  {
   "cell_type": "code",
   "execution_count": 16,
   "id": "6b9757d0",
   "metadata": {},
   "outputs": [],
   "source": [
    "imputer = SimpleImputer(missing_values=np.NaN,strategy='most_frequent')\n",
    "train_data['YEAR'] = imputer.fit_transform(train_data['YEAR'].values.reshape(-1,1))[:,0]"
   ]
  },
  {
   "cell_type": "code",
   "execution_count": 17,
   "id": "30593939",
   "metadata": {},
   "outputs": [],
   "source": [
    "from nltk.corpus import stopwords\n",
    "from nltk import RegexpTokenizer"
   ]
  },
  {
   "cell_type": "code",
   "execution_count": 18,
   "id": "36f60bb5",
   "metadata": {},
   "outputs": [],
   "source": [
    "import re\n",
    "import nltk\n",
    "import string\n",
    "from nltk.corpus import stopwords\n",
    "from nltk.stem import LancasterStemmer"
   ]
  },
  {
   "cell_type": "code",
   "execution_count": 19,
   "id": "6637ce21",
   "metadata": {},
   "outputs": [],
   "source": [
    "stemmer = LancasterStemmer()\n",
    "stop_words = set(stopwords.words('english'))\n",
    "\n",
    "# Define the clean_text function\n",
    "def clean_text(text):\n",
    "    text = text.lower()  # Lowercase all characters\n",
    "    text = re.sub(r'@\\S+', '', text)  # Remove Twitter handles\n",
    "    text = re.sub(r'http\\S+', '', text)  # Remove URLs\n",
    "    text = re.sub(r'pic.\\S+', '', text)\n",
    "    text = re.sub(r\"[^a-zA-Z+']\", ' ', text)  # Keep only characters\n",
    "    text = re.sub(r'\\s+[a-zA-Z]\\s+', ' ', text + ' ')  # Keep words with length > 1 only\n",
    "    text = \"\".join([i for i in text if i not in string.punctuation])\n",
    "    words = nltk.word_tokenize(text)\n",
    "    stopwords = nltk.corpus.stopwords.words('english')  # Remove stopwords\n",
    "    text = \" \".join([i for i in words if i not in stopwords and len(i) > 2])\n",
    "    text = re.sub(\"\\s[\\s]+\", \" \", text).strip()  # Remove repeated/leading/trailing spaces\n",
    "    return text\n",
    "\n",
    "# Apply the clean_text function to the 'Description' column in the training and test data\n",
    "train_data['Text_cleaning'] = train_data['DESCRIPTION'].apply(clean_text)"
   ]
  },
  {
   "cell_type": "code",
   "execution_count": 20,
   "id": "a5259d98",
   "metadata": {},
   "outputs": [
    {
     "data": {
      "text/plain": [
       "GENRE\n",
       " drama           13613\n",
       " documentary     13096\n",
       " comedy           7447\n",
       " short            5073\n",
       " horror           2204\n",
       " thriller         1591\n",
       " action           1315\n",
       " western          1032\n",
       " reality-tv        884\n",
       " family            784\n",
       "Name: count, dtype: int64"
      ]
     },
     "execution_count": 20,
     "metadata": {},
     "output_type": "execute_result"
    }
   ],
   "source": [
    "train_data.GENRE.value_counts()[0:10]"
   ]
  },
  {
   "cell_type": "code",
   "execution_count": 21,
   "id": "543152ed",
   "metadata": {},
   "outputs": [
    {
     "data": {
      "text/plain": [
       "Text(0.5, 1.05, 'GENRE')"
      ]
     },
     "execution_count": 21,
     "metadata": {},
     "output_type": "execute_result"
    },
    {
     "data": {
      "image/png": "[encoded data removed]",
      "text/plain": [
       "<Figure size 2000x1000 with 1 Axes>"
      ]
     },
     "metadata": {},
     "output_type": "display_data"
    }
   ],
   "source": [
    "plt.figure(figsize=(20,10))\n",
    "pt=sns.countplot(data=train_data,x='GENRE',order=train_data.GENRE.value_counts(sort=True,ascending=False).index[0:10])\n",
    "pt.set_title('GENRE', fontsize=16, fontweight='bold', y=1.05)"
   ]
  },
  {
   "cell_type": "code",
   "execution_count": 22,
   "id": "252a2fb8",
   "metadata": {},
   "outputs": [
    {
     "data": {
      "text/plain": [
       "YEAR\n",
       "2016    7395\n",
       "2017    3018\n",
       "2015    2740\n",
       "2014    2324\n",
       "2009    2254\n",
       "2012    2220\n",
       "2013    2218\n",
       "2008    2151\n",
       "2011    2148\n",
       "2010    1930\n",
       "Name: count, dtype: int64"
      ]
     },
     "execution_count": 22,
     "metadata": {},
     "output_type": "execute_result"
    }
   ],
   "source": [
    "train_data.YEAR.value_counts()[0:10]"
   ]
  },
  {
   "cell_type": "code",
   "execution_count": 23,
   "id": "43b33d88",
   "metadata": {},
   "outputs": [
    {
     "data": {
      "text/plain": [
       "Text(0.5, 1.05, 'YEAR')"
      ]
     },
     "execution_count": 23,
     "metadata": {},
     "output_type": "execute_result"
    },
    {
     "data": {
      "image/png": "[encoded data removed]",
      "text/plain": [
       "<Figure size 2000x1000 with 1 Axes>"
      ]
     },
     "metadata": {},
     "output_type": "display_data"
    }
   ],
   "source": [
    "plt.figure(figsize=(20,10))\n",
    "pt=sns.countplot(data=train_data,x='YEAR',order=train_data.YEAR.value_counts(sort=True,ascending=False).index[0:10])\n",
    "pt.set_title('YEAR', fontsize=16, fontweight='bold', y=1.05)"
   ]
  },
  {
   "cell_type": "code",
   "execution_count": 24,
   "id": "39b241f4",
   "metadata": {},
   "outputs": [],
   "source": [
    "from collections import Counter"
   ]
  },
  {
   "cell_type": "code",
   "execution_count": 25,
   "id": "cc9e3007",
   "metadata": {},
   "outputs": [
    {
     "data": {
      "text/plain": [
       "Text(0.5, 1.05, 'Year vs Genre')"
      ]
     },
     "execution_count": 25,
     "metadata": {},
     "output_type": "execute_result"
    },
    {
     "data": {
      "image/png": "[encoded data removed]",
      "text/plain": [
       "<Figure size 2000x1000 with 1 Axes>"
      ]
     },
     "metadata": {},
     "output_type": "display_data"
    }
   ],
   "source": [
    "plt.figure(figsize=(20,10))\n",
    "pt=sns.countplot(data=train_data,x='YEAR',hue='GENRE',order=train_data.YEAR.value_counts(sort=True,ascending=False).index[0:10])\n",
    "pt.set_title('Year vs Genre', fontsize=16, fontweight='bold', y=1.05)"
   ]
  },
  {
   "cell_type": "code",
   "execution_count": 26,
   "id": "be76ece7",
   "metadata": {},
   "outputs": [
    {
     "data": {
      "text/plain": [
       "[' action ',\n",
       " ' adult ',\n",
       " ' adventure ',\n",
       " ' animation ',\n",
       " ' biography ',\n",
       " ' comedy ',\n",
       " ' crime ',\n",
       " ' documentary ',\n",
       " ' drama ',\n",
       " ' family ',\n",
       " ' fantasy ',\n",
       " ' game-show ',\n",
       " ' history ',\n",
       " ' horror ',\n",
       " ' music ',\n",
       " ' musical ',\n",
       " ' mystery ',\n",
       " ' news ',\n",
       " ' reality-tv ',\n",
       " ' romance ',\n",
       " ' sci-fi ',\n",
       " ' short ',\n",
       " ' sport ',\n",
       " ' talk-show ',\n",
       " ' thriller ',\n",
       " ' war ',\n",
       " ' western ']"
      ]
     },
     "execution_count": 26,
     "metadata": {},
     "output_type": "execute_result"
    }
   ],
   "source": [
    "from sklearn.preprocessing import LabelEncoder\n",
    "label_encoder = LabelEncoder()\n",
    "train_data['Genre_encoded'] = label_encoder.fit_transform(train_data['GENRE'])\n",
    "train_data['Genre_encoded']\n",
    "\n",
    "class_names= list(label_encoder.classes_)\n",
    "class_names  "
   ]
  },
  {
   "cell_type": "code",
   "execution_count": 27,
   "id": "a7571cb8",
   "metadata": {},
   "outputs": [
    {
     "data": {
      "text/plain": [
       "Index(['ID', 'GENRE', 'DESCRIPTION', 'TITLE', 'YEAR', 'Text_cleaning',\n",
       "       'Genre_encoded'],\n",
       "      dtype='object')"
      ]
     },
     "execution_count": 27,
     "metadata": {},
     "output_type": "execute_result"
    }
   ],
   "source": [
    "train_data.columns"
   ]
  },
  {
   "cell_type": "code",
   "execution_count": 28,
   "id": "9c9d710d",
   "metadata": {},
   "outputs": [],
   "source": [
    "tfidf_vectorizer = TfidfVectorizer()"
   ]
  },
  {
   "cell_type": "code",
   "execution_count": 29,
   "id": "8c224520",
   "metadata": {},
   "outputs": [],
   "source": [
    "from sklearn.pipeline import Pipeline\n",
    "from sklearn.naive_bayes import GaussianNB"
   ]
  },
  {
   "cell_type": "code",
   "execution_count": 30,
   "id": "e0b6e0bb",
   "metadata": {},
   "outputs": [
    {
     "data": {
      "text/plain": [
       "0        listening conversation doctor parents year old...\n",
       "1        brother sister past incestuous relationship cu...\n",
       "2        bus empties students field trip museum natural...\n",
       "3        help unemployed father make ends meet edith tw...\n",
       "4        films title refers recovered bodies ground zer...\n",
       "                               ...                        \n",
       "54209    short lived nbc live sitcom centered bonino wo...\n",
       "54210    next generation exploitation sisters kapa bay ...\n",
       "54211    bestaan echt stand comedy growing facing fears...\n",
       "54212    walter vivian live country difficult time keep...\n",
       "54213    labor day weekend intense hurricane ever make ...\n",
       "Name: Text_cleaning, Length: 54214, dtype: object"
      ]
     },
     "execution_count": 30,
     "metadata": {},
     "output_type": "execute_result"
    }
   ],
   "source": [
    "train_data['Text_cleaning']"
   ]
  },
  {
   "cell_type": "code",
   "execution_count": 80,
   "id": "d937eba6",
   "metadata": {},
   "outputs": [],
   "source": [
    "X_train = tfidf_vectorizer.fit_transform(train_data['Text_cleaning'])"
   ]
  },
  {
   "cell_type": "code",
   "execution_count": 81,
   "id": "75ecdb1b",
   "metadata": {},
   "outputs": [
    {
     "data": {
      "text/plain": [
       "<54214x124210 sparse matrix of type '<class 'numpy.float64'>'\n",
       "\twith 2640592 stored elements in Compressed Sparse Row format>"
      ]
     },
     "execution_count": 81,
     "metadata": {},
     "output_type": "execute_result"
    }
   ],
   "source": [
    "X_train"
   ]
  },
  {
   "cell_type": "code",
   "execution_count": 33,
   "id": "e9337975",
   "metadata": {},
   "outputs": [],
   "source": [
    "y_train=train_data['GENRE']"
   ]
  },
  {
   "cell_type": "code",
   "execution_count": 34,
   "id": "e944c605",
   "metadata": {},
   "outputs": [],
   "source": [
    "logistic_reg_pipeline = Pipeline([\n",
    "    ('classifier', LogisticRegression(max_iter=1000)) # Logistic Regression model\n",
    "])\n",
    "\n",
    "svm_pipeline = Pipeline([\n",
    "    ('classifier', SVC(kernel='linear')) # SVM model\n",
    "])\n",
    "\n",
    "naive_bayes_pipeline = Pipeline([\n",
    "    ('classifier', GaussianNB()) # Naive Bayes model (no need for scaling)\n",
    "])\n",
    "\n"
   ]
  },
  {
   "cell_type": "code",
   "execution_count": 35,
   "id": "b17d88f9",
   "metadata": {},
   "outputs": [],
   "source": [
    "pipeline_nb = Pipeline([\n",
    "    ('classifier', MultinomialNB())\n",
    "])\n",
    "\n",
    "pipeline_lr = Pipeline([\n",
    "    ('classifier', LogisticRegression(max_iter=1000))\n",
    "])\n",
    "\n",
    "pipeline_svm = Pipeline([\n",
    "    ('classifier', SVC(kernel='linear'))\n",
    "])"
   ]
  },
  {
   "cell_type": "code",
   "execution_count": 36,
   "id": "18cb9cb8",
   "metadata": {},
   "outputs": [],
   "source": [
    "pipelines = [\n",
    "    (\"Naive Bayes\", pipeline_nb),\n",
    "    (\"Logistic Regression\", pipeline_lr),\n",
    "    (\"Support Vector Machine\", pipeline_svm)\n",
    "]"
   ]
  },
  {
   "cell_type": "code",
   "execution_count": 37,
   "id": "fb994b2c",
   "metadata": {},
   "outputs": [
    {
     "name": "stdout",
     "output_type": "stream",
     "text": [
      "Training Naive Bayes...\n",
      "Evaluating Naive Bayes...\n",
      "Training Logistic Regression...\n",
      "Evaluating Logistic Regression...\n",
      "Training Support Vector Machine...\n",
      "Evaluating Support Vector Machine...\n"
     ]
    }
   ],
   "source": [
    "for name, pipeline in pipelines:\n",
    "    print(f\"Training {name}...\")\n",
    "    pipeline.fit(X_train, y_train)\n",
    "    print(f\"Evaluating {name}...\")\n"
   ]
  },
  {
   "cell_type": "code",
   "execution_count": 38,
   "id": "00ff6dcc",
   "metadata": {},
   "outputs": [],
   "source": [
    "def title_year(data,title_year_col):\n",
    "    data[['TITLE', 'YEAR']] =data[title_year_col].str.extract(r'(.+)\\((\\d+)\\)')\n",
    "    data.drop(title_year_col, axis=1, inplace=True)\n",
    "    return data"
   ]
  },
  {
   "cell_type": "code",
   "execution_count": 39,
   "id": "0b93979f",
   "metadata": {},
   "outputs": [],
   "source": [
    "def categorical_feature(data):\n",
    "    categorical_features_with_missing = ['TITLE']  \n",
    "    imputation_value = 'Unknown'\n",
    "    for feature in categorical_features_with_missing:\n",
    "        data[feature].fillna(imputation_value, inplace=True)\n",
    "    return data"
   ]
  },
  {
   "cell_type": "code",
   "execution_count": 40,
   "id": "cc848a9c",
   "metadata": {},
   "outputs": [],
   "source": [
    "def missing_value(data):\n",
    "    imputer = SimpleImputer(missing_values=np.NaN,strategy='most_frequent')\n",
    "    data['YEAR'] = imputer.fit_transform(data['YEAR'].values.reshape(-1,1))[:,0]\n",
    "    return data"
   ]
  },
  {
   "cell_type": "code",
   "execution_count": 41,
   "id": "acccc777",
   "metadata": {},
   "outputs": [],
   "source": [
    "from sklearn.preprocessing import FunctionTransformer"
   ]
  },
  {
   "cell_type": "code",
   "execution_count": 42,
   "id": "6aa1a594",
   "metadata": {},
   "outputs": [],
   "source": [
    "pipeline_col = Pipeline([\n",
    "\n",
    "    ('title_year', FunctionTransformer(title_year, kw_args={'title_year_col': 'TITLE_YEAR'})),\n",
    "    \n",
    "    # Rename columns\n",
    "    ('rename_columns', FunctionTransformer(categorical_feature)),\n",
    "    ('missing', FunctionTransformer(missing_value)),\n",
    "    \n",
    "\n",
    "])"
   ]
  },
  {
   "cell_type": "code",
   "execution_count": 43,
   "id": "57f22dc7",
   "metadata": {},
   "outputs": [
    {
     "data": {
      "text/html": [
       "<style>#sk-container-id-1 {color: black;}#sk-container-id-1 pre{padding: 0;}#sk-container-id-1 div.sk-toggleable {background-color: white;}#sk-container-id-1 label.sk-toggleable__label {cursor: pointer;display: block;width: 100%;margin-bottom: 0;padding: 0.3em;box-sizing: border-box;text-align: center;}#sk-container-id-1 label.sk-toggleable__label-arrow:before {content: \"▸\";float: left;margin-right: 0.25em;color: #696969;}#sk-container-id-1 label.sk-toggleable__label-arrow:hover:before {color: black;}#sk-container-id-1 div.sk-estimator:hover label.sk-toggleable__label-arrow:before {color: black;}#sk-container-id-1 div.sk-toggleable__content {max-height: 0;max-width: 0;overflow: hidden;text-align: left;background-color: #f0f8ff;}#sk-container-id-1 div.sk-toggleable__content pre {margin: 0.2em;color: black;border-radius: 0.25em;background-color: #f0f8ff;}#sk-container-id-1 input.sk-toggleable__control:checked~div.sk-toggleable__content {max-height: 200px;max-width: 100%;overflow: auto;}#sk-container-id-1 input.sk-toggleable__control:checked~label.sk-toggleable__label-arrow:before {content: \"▾\";}#sk-container-id-1 div.sk-estimator input.sk-toggleable__control:checked~label.sk-toggleable__label {background-color: #d4ebff;}#sk-container-id-1 div.sk-label input.sk-toggleable__control:checked~label.sk-toggleable__label {background-color: #d4ebff;}#sk-container-id-1 input.sk-hidden--visually {border: 0;clip: rect(1px 1px 1px 1px);clip: rect(1px, 1px, 1px, 1px);height: 1px;margin: -1px;overflow: hidden;padding: 0;position: absolute;width: 1px;}#sk-container-id-1 div.sk-estimator {font-family: monospace;background-color: #f0f8ff;border: 1px dotted black;border-radius: 0.25em;box-sizing: border-box;margin-bottom: 0.5em;}#sk-container-id-1 div.sk-estimator:hover {background-color: #d4ebff;}#sk-container-id-1 div.sk-parallel-item::after {content: \"\";width: 100%;border-bottom: 1px solid gray;flex-grow: 1;}#sk-container-id-1 div.sk-label:hover label.sk-toggleable__label {background-color: #d4ebff;}#sk-container-id-1 div.sk-serial::before {content: \"\";position: absolute;border-left: 1px solid gray;box-sizing: border-box;top: 0;bottom: 0;left: 50%;z-index: 0;}#sk-container-id-1 div.sk-serial {display: flex;flex-direction: column;align-items: center;background-color: white;padding-right: 0.2em;padding-left: 0.2em;position: relative;}#sk-container-id-1 div.sk-item {position: relative;z-index: 1;}#sk-container-id-1 div.sk-parallel {display: flex;align-items: stretch;justify-content: center;background-color: white;position: relative;}#sk-container-id-1 div.sk-item::before, #sk-container-id-1 div.sk-parallel-item::before {content: \"\";position: absolute;border-left: 1px solid gray;box-sizing: border-box;top: 0;bottom: 0;left: 50%;z-index: -1;}#sk-container-id-1 div.sk-parallel-item {display: flex;flex-direction: column;z-index: 1;position: relative;background-color: white;}#sk-container-id-1 div.sk-parallel-item:first-child::after {align-self: flex-end;width: 50%;}#sk-container-id-1 div.sk-parallel-item:last-child::after {align-self: flex-start;width: 50%;}#sk-container-id-1 div.sk-parallel-item:only-child::after {width: 0;}#sk-container-id-1 div.sk-dashed-wrapped {border: 1px dashed gray;margin: 0 0.4em 0.5em 0.4em;box-sizing: border-box;padding-bottom: 0.4em;background-color: white;}#sk-container-id-1 div.sk-label label {font-family: monospace;font-weight: bold;display: inline-block;line-height: 1.2em;}#sk-container-id-1 div.sk-label-container {text-align: center;}#sk-container-id-1 div.sk-container {/* jupyter's `normalize.less` sets `[hidden] { display: none; }` but bootstrap.min.css set `[hidden] { display: none !important; }` so we also need the `!important` here to be able to override the default hidden behavior on the sphinx rendered scikit-learn.org. See: https://github.com/scikit-learn/scikit-learn/issues/21755 */display: inline-block !important;position: relative;}#sk-container-id-1 div.sk-text-repr-fallback {display: none;}</style><div id=\"sk-container-id-1\" class=\"sk-top-container\"><div class=\"sk-text-repr-fallback\"><pre>Pipeline(steps=[(&#x27;title_year&#x27;,\n",
       "                 FunctionTransformer(func=&lt;function title_year at 0x000002D4A7430AF0&gt;,\n",
       "                                     kw_args={&#x27;title_year_col&#x27;: &#x27;TITLE_YEAR&#x27;})),\n",
       "                (&#x27;rename_columns&#x27;,\n",
       "                 FunctionTransformer(func=&lt;function categorical_feature at 0x000002D4A6519820&gt;)),\n",
       "                (&#x27;missing&#x27;,\n",
       "                 FunctionTransformer(func=&lt;function missing_value at 0x000002D4A7430A60&gt;))])</pre><b>In a Jupyter environment, please rerun this cell to show the HTML representation or trust the notebook. <br />On GitHub, the HTML representation is unable to render, please try loading this page with nbviewer.org.</b></div><div class=\"sk-container\" hidden><div class=\"sk-item sk-dashed-wrapped\"><div class=\"sk-label-container\"><div class=\"sk-label sk-toggleable\"><input class=\"sk-toggleable__control sk-hidden--visually\" id=\"sk-estimator-id-1\" type=\"checkbox\" ><label for=\"sk-estimator-id-1\" class=\"sk-toggleable__label sk-toggleable__label-arrow\">Pipeline</label><div class=\"sk-toggleable__content\"><pre>Pipeline(steps=[(&#x27;title_year&#x27;,\n",
       "                 FunctionTransformer(func=&lt;function title_year at 0x000002D4A7430AF0&gt;,\n",
       "                                     kw_args={&#x27;title_year_col&#x27;: &#x27;TITLE_YEAR&#x27;})),\n",
       "                (&#x27;rename_columns&#x27;,\n",
       "                 FunctionTransformer(func=&lt;function categorical_feature at 0x000002D4A6519820&gt;)),\n",
       "                (&#x27;missing&#x27;,\n",
       "                 FunctionTransformer(func=&lt;function missing_value at 0x000002D4A7430A60&gt;))])</pre></div></div></div><div class=\"sk-serial\"><div class=\"sk-item\"><div class=\"sk-estimator sk-toggleable\"><input class=\"sk-toggleable__control sk-hidden--visually\" id=\"sk-estimator-id-2\" type=\"checkbox\" ><label for=\"sk-estimator-id-2\" class=\"sk-toggleable__label sk-toggleable__label-arrow\">FunctionTransformer</label><div class=\"sk-toggleable__content\"><pre>FunctionTransformer(func=&lt;function title_year at 0x000002D4A7430AF0&gt;,\n",
       "                    kw_args={&#x27;title_year_col&#x27;: &#x27;TITLE_YEAR&#x27;})</pre></div></div></div><div class=\"sk-item\"><div class=\"sk-estimator sk-toggleable\"><input class=\"sk-toggleable__control sk-hidden--visually\" id=\"sk-estimator-id-3\" type=\"checkbox\" ><label for=\"sk-estimator-id-3\" class=\"sk-toggleable__label sk-toggleable__label-arrow\">FunctionTransformer</label><div class=\"sk-toggleable__content\"><pre>FunctionTransformer(func=&lt;function categorical_feature at 0x000002D4A6519820&gt;)</pre></div></div></div><div class=\"sk-item\"><div class=\"sk-estimator sk-toggleable\"><input class=\"sk-toggleable__control sk-hidden--visually\" id=\"sk-estimator-id-4\" type=\"checkbox\" ><label for=\"sk-estimator-id-4\" class=\"sk-toggleable__label sk-toggleable__label-arrow\">FunctionTransformer</label><div class=\"sk-toggleable__content\"><pre>FunctionTransformer(func=&lt;function missing_value at 0x000002D4A7430A60&gt;)</pre></div></div></div></div></div></div></div>"
      ],
      "text/plain": [
       "Pipeline(steps=[('title_year',\n",
       "                 FunctionTransformer(func=<function title_year at 0x000002D4A7430AF0>,\n",
       "                                     kw_args={'title_year_col': 'TITLE_YEAR'})),\n",
       "                ('rename_columns',\n",
       "                 FunctionTransformer(func=<function categorical_feature at 0x000002D4A6519820>)),\n",
       "                ('missing',\n",
       "                 FunctionTransformer(func=<function missing_value at 0x000002D4A7430A60>))])"
      ]
     },
     "execution_count": 43,
     "metadata": {},
     "output_type": "execute_result"
    }
   ],
   "source": [
    "pipeline_col"
   ]
  },
  {
   "cell_type": "code",
   "execution_count": 44,
   "id": "23010692",
   "metadata": {},
   "outputs": [],
   "source": [
    "from sklearn.pipeline import make_pipeline"
   ]
  },
  {
   "cell_type": "code",
   "execution_count": 45,
   "id": "102f3383",
   "metadata": {},
   "outputs": [],
   "source": [
    "final_pipeline = make_pipeline(\n",
    "    pipeline_col,  \n",
    ")"
   ]
  },
  {
   "cell_type": "code",
   "execution_count": 70,
   "id": "1ef67e21",
   "metadata": {},
   "outputs": [],
   "source": [
    "import csv\n",
    "encoding = 'utf-8'\n",
    "with open('test_data.txt', 'r', encoding=encoding) as file:\n",
    "    lines = file.readlines()\n",
    "data = [line.strip().split(':::') for line in lines]\n",
    "with open('test_data.csv', 'w', newline='', encoding='utf-8') as csvfile:\n",
    "    writer = csv.writer(csvfile)\n",
    "    writer.writerows(data)"
   ]
  },
  {
   "cell_type": "code",
   "execution_count": 71,
   "id": "ae4af6c0",
   "metadata": {},
   "outputs": [],
   "source": [
    "column_name=['ID','TITLE_YEAR','DESCRIPTION']"
   ]
  },
  {
   "cell_type": "code",
   "execution_count": 72,
   "id": "d67ea2a4",
   "metadata": {},
   "outputs": [],
   "source": [
    "test_data=pd.read_csv('test_data.csv',names=column_name)"
   ]
  },
  {
   "cell_type": "code",
   "execution_count": 73,
   "id": "c6656c0d",
   "metadata": {},
   "outputs": [
    {
     "data": {
      "text/html": [
       "<div>\n",
       "<style scoped>\n",
       "    .dataframe tbody tr th:only-of-type {\n",
       "        vertical-align: middle;\n",
       "    }\n",
       "\n",
       "    .dataframe tbody tr th {\n",
       "        vertical-align: top;\n",
       "    }\n",
       "\n",
       "    .dataframe thead th {\n",
       "        text-align: right;\n",
       "    }\n",
       "</style>\n",
       "<table border=\"1\" class=\"dataframe\">\n",
       "  <thead>\n",
       "    <tr style=\"text-align: right;\">\n",
       "      <th></th>\n",
       "      <th>ID</th>\n",
       "      <th>TITLE_YEAR</th>\n",
       "      <th>DESCRIPTION</th>\n",
       "    </tr>\n",
       "  </thead>\n",
       "  <tbody>\n",
       "    <tr>\n",
       "      <th>0</th>\n",
       "      <td>1</td>\n",
       "      <td>Edgar's Lunch (1998)</td>\n",
       "      <td>L.R. Brane loves his life - his car, his apar...</td>\n",
       "    </tr>\n",
       "    <tr>\n",
       "      <th>1</th>\n",
       "      <td>2</td>\n",
       "      <td>La guerra de papá (1977)</td>\n",
       "      <td>Spain, March 1964: Quico is a very naughty ch...</td>\n",
       "    </tr>\n",
       "  </tbody>\n",
       "</table>\n",
       "</div>"
      ],
      "text/plain": [
       "   ID                  TITLE_YEAR  \\\n",
       "0   1       Edgar's Lunch (1998)    \n",
       "1   2   La guerra de papá (1977)    \n",
       "\n",
       "                                         DESCRIPTION  \n",
       "0   L.R. Brane loves his life - his car, his apar...  \n",
       "1   Spain, March 1964: Quico is a very naughty ch...  "
      ]
     },
     "execution_count": 73,
     "metadata": {},
     "output_type": "execute_result"
    }
   ],
   "source": [
    "test_data.head(2)"
   ]
  },
  {
   "cell_type": "code",
   "execution_count": 74,
   "id": "a555a84c",
   "metadata": {},
   "outputs": [],
   "source": [
    "data=final_pipeline.transform(test_data)"
   ]
  },
  {
   "cell_type": "code",
   "execution_count": 75,
   "id": "d5984a23",
   "metadata": {},
   "outputs": [
    {
     "data": {
      "text/html": [
       "<div>\n",
       "<style scoped>\n",
       "    .dataframe tbody tr th:only-of-type {\n",
       "        vertical-align: middle;\n",
       "    }\n",
       "\n",
       "    .dataframe tbody tr th {\n",
       "        vertical-align: top;\n",
       "    }\n",
       "\n",
       "    .dataframe thead th {\n",
       "        text-align: right;\n",
       "    }\n",
       "</style>\n",
       "<table border=\"1\" class=\"dataframe\">\n",
       "  <thead>\n",
       "    <tr style=\"text-align: right;\">\n",
       "      <th></th>\n",
       "      <th>ID</th>\n",
       "      <th>DESCRIPTION</th>\n",
       "      <th>TITLE</th>\n",
       "      <th>YEAR</th>\n",
       "    </tr>\n",
       "  </thead>\n",
       "  <tbody>\n",
       "    <tr>\n",
       "      <th>0</th>\n",
       "      <td>1</td>\n",
       "      <td>L.R. Brane loves his life - his car, his apar...</td>\n",
       "      <td>Edgar's Lunch</td>\n",
       "      <td>1998</td>\n",
       "    </tr>\n",
       "    <tr>\n",
       "      <th>1</th>\n",
       "      <td>2</td>\n",
       "      <td>Spain, March 1964: Quico is a very naughty ch...</td>\n",
       "      <td>La guerra de papá</td>\n",
       "      <td>1977</td>\n",
       "    </tr>\n",
       "  </tbody>\n",
       "</table>\n",
       "</div>"
      ],
      "text/plain": [
       "   ID                                        DESCRIPTION                TITLE  \\\n",
       "0   1   L.R. Brane loves his life - his car, his apar...       Edgar's Lunch    \n",
       "1   2   Spain, March 1964: Quico is a very naughty ch...   La guerra de papá    \n",
       "\n",
       "   YEAR  \n",
       "0  1998  \n",
       "1  1977  "
      ]
     },
     "execution_count": 75,
     "metadata": {},
     "output_type": "execute_result"
    }
   ],
   "source": [
    "data.head(2)"
   ]
  },
  {
   "cell_type": "code",
   "execution_count": null,
   "id": "02f61796",
   "metadata": {},
   "outputs": [],
   "source": []
  },
  {
   "cell_type": "code",
   "execution_count": null,
   "id": "0581e78e",
   "metadata": {},
   "outputs": [],
   "source": []
  },
  {
   "cell_type": "code",
   "execution_count": 76,
   "id": "efb04650",
   "metadata": {},
   "outputs": [],
   "source": [
    "data['Text_cleaning'] = data['DESCRIPTION'].apply(clean_text)"
   ]
  },
  {
   "cell_type": "code",
   "execution_count": 82,
   "id": "6cbf7c03",
   "metadata": {},
   "outputs": [],
   "source": [
    "X_test = tfidf_vectorizer.transform(data['Text_cleaning'])"
   ]
  },
  {
   "cell_type": "code",
   "execution_count": 83,
   "id": "77c2d4a6",
   "metadata": {},
   "outputs": [
    {
     "data": {
      "text/plain": [
       "<54200x124210 sparse matrix of type '<class 'numpy.float64'>'\n",
       "\twith 2578617 stored elements in Compressed Sparse Row format>"
      ]
     },
     "execution_count": 83,
     "metadata": {},
     "output_type": "execute_result"
    }
   ],
   "source": [
    "X_test"
   ]
  },
  {
   "cell_type": "code",
   "execution_count": 84,
   "id": "1bdf4ff8",
   "metadata": {},
   "outputs": [],
   "source": [
    "y_pred = pipeline.predict(X_test)"
   ]
  },
  {
   "cell_type": "code",
   "execution_count": 87,
   "id": "848afb07",
   "metadata": {},
   "outputs": [],
   "source": [
    "import csv\n",
    "encoding = 'utf-8'\n",
    "with open('test_data_solution.txt', 'r', encoding=encoding) as file:\n",
    "    lines = file.readlines()\n",
    "data = [line.strip().split(':::') for line in lines]\n",
    "with open('test_data_solution.csv', 'w', newline='', encoding='utf-8') as csvfile:\n",
    "    writer = csv.writer(csvfile)\n",
    "    writer.writerows(data)"
   ]
  },
  {
   "cell_type": "code",
   "execution_count": 91,
   "id": "34f2be1e",
   "metadata": {},
   "outputs": [],
   "source": [
    "column_name=['ID','TITLE_YEAR','GENRE','DESCRIPTION']"
   ]
  },
  {
   "cell_type": "code",
   "execution_count": 92,
   "id": "7886f9d4",
   "metadata": {},
   "outputs": [],
   "source": [
    "test_data_solution=pd.read_csv('test_data_solution.csv',names=column_name)"
   ]
  },
  {
   "cell_type": "code",
   "execution_count": 93,
   "id": "65a407b8",
   "metadata": {},
   "outputs": [
    {
     "data": {
      "text/html": [
       "<div>\n",
       "<style scoped>\n",
       "    .dataframe tbody tr th:only-of-type {\n",
       "        vertical-align: middle;\n",
       "    }\n",
       "\n",
       "    .dataframe tbody tr th {\n",
       "        vertical-align: top;\n",
       "    }\n",
       "\n",
       "    .dataframe thead th {\n",
       "        text-align: right;\n",
       "    }\n",
       "</style>\n",
       "<table border=\"1\" class=\"dataframe\">\n",
       "  <thead>\n",
       "    <tr style=\"text-align: right;\">\n",
       "      <th></th>\n",
       "      <th>ID</th>\n",
       "      <th>TITLE_YEAR</th>\n",
       "      <th>GENRE</th>\n",
       "      <th>DESCRIPTION</th>\n",
       "    </tr>\n",
       "  </thead>\n",
       "  <tbody>\n",
       "    <tr>\n",
       "      <th>0</th>\n",
       "      <td>1</td>\n",
       "      <td>Edgar's Lunch (1998)</td>\n",
       "      <td>thriller</td>\n",
       "      <td>L.R. Brane loves his life - his car, his apar...</td>\n",
       "    </tr>\n",
       "    <tr>\n",
       "      <th>1</th>\n",
       "      <td>2</td>\n",
       "      <td>La guerra de papá (1977)</td>\n",
       "      <td>comedy</td>\n",
       "      <td>Spain, March 1964: Quico is a very naughty ch...</td>\n",
       "    </tr>\n",
       "  </tbody>\n",
       "</table>\n",
       "</div>"
      ],
      "text/plain": [
       "   ID                  TITLE_YEAR       GENRE  \\\n",
       "0   1       Edgar's Lunch (1998)    thriller    \n",
       "1   2   La guerra de papá (1977)      comedy    \n",
       "\n",
       "                                         DESCRIPTION  \n",
       "0   L.R. Brane loves his life - his car, his apar...  \n",
       "1   Spain, March 1964: Quico is a very naughty ch...  "
      ]
     },
     "execution_count": 93,
     "metadata": {},
     "output_type": "execute_result"
    }
   ],
   "source": [
    "test_data_solution.head(2)"
   ]
  },
  {
   "cell_type": "code",
   "execution_count": 94,
   "id": "61cf4fd7",
   "metadata": {},
   "outputs": [],
   "source": [
    "y_test_data=test_data_solution['GENRE']"
   ]
  },
  {
   "cell_type": "code",
   "execution_count": 102,
   "id": "d228879b",
   "metadata": {},
   "outputs": [],
   "source": [
    "from sklearn.metrics import accuracy_score, classification_report"
   ]
  },
  {
   "cell_type": "code",
   "execution_count": 103,
   "id": "dbeef915",
   "metadata": {},
   "outputs": [
    {
     "name": "stdout",
     "output_type": "stream",
     "text": [
      "Validation Accuracy: 0.6028044280442805\n",
      "               precision    recall  f1-score   support\n",
      "\n",
      "      action        0.47      0.36      0.41      1314\n",
      "       adult        0.64      0.41      0.50       590\n",
      "   adventure        0.59      0.23      0.33       775\n",
      "   animation        0.50      0.11      0.19       498\n",
      "   biography        0.00      0.00      0.00       264\n",
      "      comedy        0.55      0.60      0.58      7446\n",
      "       crime        0.31      0.04      0.06       505\n",
      " documentary        0.69      0.86      0.76     13096\n",
      "       drama        0.56      0.78      0.65     13612\n",
      "      family        0.53      0.12      0.19       783\n",
      "     fantasy        0.34      0.06      0.10       322\n",
      "   game-show        0.86      0.62      0.72       193\n",
      "     history        0.00      0.00      0.00       243\n",
      "      horror        0.67      0.62      0.64      2204\n",
      "       music        0.69      0.50      0.58       731\n",
      "     musical        0.31      0.02      0.03       276\n",
      "     mystery        0.33      0.01      0.02       318\n",
      "        news        0.65      0.09      0.16       181\n",
      "  reality-tv        0.58      0.25      0.35       883\n",
      "     romance        0.75      0.00      0.01       672\n",
      "      sci-fi        0.58      0.34      0.43       646\n",
      "       short        0.51      0.32      0.40      5072\n",
      "       sport        0.71      0.33      0.45       431\n",
      "   talk-show        0.61      0.27      0.37       391\n",
      "    thriller        0.40      0.15      0.22      1590\n",
      "         war        1.00      0.05      0.09       132\n",
      "     western        0.92      0.80      0.85      1032\n",
      "\n",
      "     accuracy                           0.60     54200\n",
      "    macro avg       0.55      0.29      0.34     54200\n",
      " weighted avg       0.59      0.60      0.57     54200\n",
      "\n"
     ]
    }
   ],
   "source": [
    "accuracy = accuracy_score(y_test_data, y_pred)\n",
    "print(\"Validation Accuracy:\", accuracy)\n",
    "print(classification_report(y_test_data, y_pred))"
   ]
  }
 ],
 "metadata": {
  "kernelspec": {
   "display_name": "Python 3 (ipykernel)",
   "language": "python",
   "name": "python3"
  },
  "language_info": {
   "codemirror_mode": {
    "name": "ipython",
    "version": 3
   },
   "file_extension": ".py",
   "mimetype": "text/x-python",
   "name": "python",
   "nbconvert_exporter": "python",
   "pygments_lexer": "ipython3",
   "version": "3.8.17"
  }
 },
 "nbformat": 4,
 "nbformat_minor": 5
}
